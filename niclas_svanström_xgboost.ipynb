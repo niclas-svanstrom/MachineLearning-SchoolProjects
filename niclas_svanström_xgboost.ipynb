{
 "cells": [
  {
   "cell_type": "code",
   "execution_count": 6021,
   "metadata": {},
   "outputs": [],
   "source": [
    "import xgboost as xgb\n",
    "import pandas as pd\n",
    "import matplotlib.pyplot as plt\n",
    "import numpy as np\n",
    "\n",
    "from sklearn.metrics import accuracy_score, confusion_matrix, ConfusionMatrixDisplay\n",
    "from sklearn.model_selection import train_test_split\n",
    "from sklearn.preprocessing import LabelEncoder"
   ]
  },
  {
   "cell_type": "code",
   "execution_count": 6022,
   "metadata": {},
   "outputs": [],
   "source": [
    "train_df = pd.read_csv('./data/churn_train_xg.csv')\n",
    "test_df = pd.read_csv('./data/churn_test_xg.csv')"
   ]
  },
  {
   "attachments": {},
   "cell_type": "markdown",
   "metadata": {},
   "source": [
    "# ● Analysera datan"
   ]
  },
  {
   "cell_type": "code",
   "execution_count": 6023,
   "metadata": {},
   "outputs": [
    {
     "data": {
      "text/plain": [
       "customerID          0\n",
       "gender              0\n",
       "SeniorCitizen       0\n",
       "Partner             0\n",
       "Dependents          0\n",
       "tenure              0\n",
       "PhoneService        0\n",
       "MultipleLines       0\n",
       "InternetService     0\n",
       "OnlineSecurity      0\n",
       "OnlineBackup        0\n",
       "DeviceProtection    0\n",
       "TechSupport         0\n",
       "StreamingTV         0\n",
       "StreamingMovies     0\n",
       "Contract            0\n",
       "PaperlessBilling    0\n",
       "PaymentMethod       0\n",
       "MonthlyCharges      0\n",
       "TotalCharges        0\n",
       "Churn               0\n",
       "dtype: int64"
      ]
     },
     "execution_count": 6023,
     "metadata": {},
     "output_type": "execute_result"
    }
   ],
   "source": [
    "train_df.isnull().sum()"
   ]
  },
  {
   "cell_type": "code",
   "execution_count": 6024,
   "metadata": {},
   "outputs": [
    {
     "data": {
      "text/plain": [
       "0"
      ]
     },
     "execution_count": 6024,
     "metadata": {},
     "output_type": "execute_result"
    }
   ],
   "source": [
    "train_df.duplicated().sum()"
   ]
  },
  {
   "cell_type": "code",
   "execution_count": 6025,
   "metadata": {},
   "outputs": [
    {
     "data": {
      "text/html": [
       "<div>\n",
       "<style scoped>\n",
       "    .dataframe tbody tr th:only-of-type {\n",
       "        vertical-align: middle;\n",
       "    }\n",
       "\n",
       "    .dataframe tbody tr th {\n",
       "        vertical-align: top;\n",
       "    }\n",
       "\n",
       "    .dataframe thead th {\n",
       "        text-align: right;\n",
       "    }\n",
       "</style>\n",
       "<table border=\"1\" class=\"dataframe\">\n",
       "  <thead>\n",
       "    <tr style=\"text-align: right;\">\n",
       "      <th></th>\n",
       "      <th>SeniorCitizen</th>\n",
       "      <th>tenure</th>\n",
       "      <th>MonthlyCharges</th>\n",
       "    </tr>\n",
       "  </thead>\n",
       "  <tbody>\n",
       "    <tr>\n",
       "      <th>count</th>\n",
       "      <td>5634.000000</td>\n",
       "      <td>5634.000000</td>\n",
       "      <td>5634.000000</td>\n",
       "    </tr>\n",
       "    <tr>\n",
       "      <th>mean</th>\n",
       "      <td>0.162052</td>\n",
       "      <td>32.651757</td>\n",
       "      <td>64.828852</td>\n",
       "    </tr>\n",
       "    <tr>\n",
       "      <th>std</th>\n",
       "      <td>0.368531</td>\n",
       "      <td>24.568438</td>\n",
       "      <td>30.187464</td>\n",
       "    </tr>\n",
       "    <tr>\n",
       "      <th>min</th>\n",
       "      <td>0.000000</td>\n",
       "      <td>0.000000</td>\n",
       "      <td>18.250000</td>\n",
       "    </tr>\n",
       "    <tr>\n",
       "      <th>25%</th>\n",
       "      <td>0.000000</td>\n",
       "      <td>9.000000</td>\n",
       "      <td>35.462500</td>\n",
       "    </tr>\n",
       "    <tr>\n",
       "      <th>50%</th>\n",
       "      <td>0.000000</td>\n",
       "      <td>29.000000</td>\n",
       "      <td>70.400000</td>\n",
       "    </tr>\n",
       "    <tr>\n",
       "      <th>75%</th>\n",
       "      <td>0.000000</td>\n",
       "      <td>56.000000</td>\n",
       "      <td>90.050000</td>\n",
       "    </tr>\n",
       "    <tr>\n",
       "      <th>max</th>\n",
       "      <td>1.000000</td>\n",
       "      <td>72.000000</td>\n",
       "      <td>118.750000</td>\n",
       "    </tr>\n",
       "  </tbody>\n",
       "</table>\n",
       "</div>"
      ],
      "text/plain": [
       "       SeniorCitizen       tenure  MonthlyCharges\n",
       "count    5634.000000  5634.000000     5634.000000\n",
       "mean        0.162052    32.651757       64.828852\n",
       "std         0.368531    24.568438       30.187464\n",
       "min         0.000000     0.000000       18.250000\n",
       "25%         0.000000     9.000000       35.462500\n",
       "50%         0.000000    29.000000       70.400000\n",
       "75%         0.000000    56.000000       90.050000\n",
       "max         1.000000    72.000000      118.750000"
      ]
     },
     "execution_count": 6025,
     "metadata": {},
     "output_type": "execute_result"
    }
   ],
   "source": [
    "train_df.describe()"
   ]
  },
  {
   "cell_type": "code",
   "execution_count": 6026,
   "metadata": {},
   "outputs": [
    {
     "data": {
      "text/html": [
       "<div>\n",
       "<style scoped>\n",
       "    .dataframe tbody tr th:only-of-type {\n",
       "        vertical-align: middle;\n",
       "    }\n",
       "\n",
       "    .dataframe tbody tr th {\n",
       "        vertical-align: top;\n",
       "    }\n",
       "\n",
       "    .dataframe thead th {\n",
       "        text-align: right;\n",
       "    }\n",
       "</style>\n",
       "<table border=\"1\" class=\"dataframe\">\n",
       "  <thead>\n",
       "    <tr style=\"text-align: right;\">\n",
       "      <th></th>\n",
       "      <th>customerID</th>\n",
       "      <th>gender</th>\n",
       "      <th>SeniorCitizen</th>\n",
       "      <th>Partner</th>\n",
       "      <th>Dependents</th>\n",
       "      <th>tenure</th>\n",
       "      <th>PhoneService</th>\n",
       "      <th>MultipleLines</th>\n",
       "      <th>InternetService</th>\n",
       "      <th>OnlineSecurity</th>\n",
       "      <th>...</th>\n",
       "      <th>DeviceProtection</th>\n",
       "      <th>TechSupport</th>\n",
       "      <th>StreamingTV</th>\n",
       "      <th>StreamingMovies</th>\n",
       "      <th>Contract</th>\n",
       "      <th>PaperlessBilling</th>\n",
       "      <th>PaymentMethod</th>\n",
       "      <th>MonthlyCharges</th>\n",
       "      <th>TotalCharges</th>\n",
       "      <th>Churn</th>\n",
       "    </tr>\n",
       "  </thead>\n",
       "  <tbody>\n",
       "    <tr>\n",
       "      <th>0</th>\n",
       "      <td>1768-ZAIFU</td>\n",
       "      <td>Female</td>\n",
       "      <td>1</td>\n",
       "      <td>No</td>\n",
       "      <td>No</td>\n",
       "      <td>1</td>\n",
       "      <td>No</td>\n",
       "      <td>No phone service</td>\n",
       "      <td>DSL</td>\n",
       "      <td>No</td>\n",
       "      <td>...</td>\n",
       "      <td>No</td>\n",
       "      <td>No</td>\n",
       "      <td>No</td>\n",
       "      <td>No</td>\n",
       "      <td>Month-to-month</td>\n",
       "      <td>Yes</td>\n",
       "      <td>Electronic check</td>\n",
       "      <td>25.20</td>\n",
       "      <td>25.2</td>\n",
       "      <td>Yes</td>\n",
       "    </tr>\n",
       "    <tr>\n",
       "      <th>1</th>\n",
       "      <td>2159-TURXX</td>\n",
       "      <td>Male</td>\n",
       "      <td>0</td>\n",
       "      <td>No</td>\n",
       "      <td>No</td>\n",
       "      <td>5</td>\n",
       "      <td>Yes</td>\n",
       "      <td>No</td>\n",
       "      <td>No</td>\n",
       "      <td>No internet service</td>\n",
       "      <td>...</td>\n",
       "      <td>No internet service</td>\n",
       "      <td>No internet service</td>\n",
       "      <td>No internet service</td>\n",
       "      <td>No internet service</td>\n",
       "      <td>Month-to-month</td>\n",
       "      <td>No</td>\n",
       "      <td>Credit card (automatic)</td>\n",
       "      <td>20.05</td>\n",
       "      <td>95.55</td>\n",
       "      <td>No</td>\n",
       "    </tr>\n",
       "    <tr>\n",
       "      <th>2</th>\n",
       "      <td>8261-GWDBQ</td>\n",
       "      <td>Female</td>\n",
       "      <td>1</td>\n",
       "      <td>Yes</td>\n",
       "      <td>No</td>\n",
       "      <td>60</td>\n",
       "      <td>Yes</td>\n",
       "      <td>Yes</td>\n",
       "      <td>Fiber optic</td>\n",
       "      <td>Yes</td>\n",
       "      <td>...</td>\n",
       "      <td>Yes</td>\n",
       "      <td>Yes</td>\n",
       "      <td>Yes</td>\n",
       "      <td>Yes</td>\n",
       "      <td>Two year</td>\n",
       "      <td>Yes</td>\n",
       "      <td>Bank transfer (automatic)</td>\n",
       "      <td>116.05</td>\n",
       "      <td>6925.9</td>\n",
       "      <td>No</td>\n",
       "    </tr>\n",
       "    <tr>\n",
       "      <th>3</th>\n",
       "      <td>2732-ISEZX</td>\n",
       "      <td>Female</td>\n",
       "      <td>0</td>\n",
       "      <td>No</td>\n",
       "      <td>No</td>\n",
       "      <td>5</td>\n",
       "      <td>Yes</td>\n",
       "      <td>No</td>\n",
       "      <td>No</td>\n",
       "      <td>No internet service</td>\n",
       "      <td>...</td>\n",
       "      <td>No internet service</td>\n",
       "      <td>No internet service</td>\n",
       "      <td>No internet service</td>\n",
       "      <td>No internet service</td>\n",
       "      <td>Month-to-month</td>\n",
       "      <td>Yes</td>\n",
       "      <td>Mailed check</td>\n",
       "      <td>20.50</td>\n",
       "      <td>104.3</td>\n",
       "      <td>No</td>\n",
       "    </tr>\n",
       "    <tr>\n",
       "      <th>4</th>\n",
       "      <td>7607-QKKTJ</td>\n",
       "      <td>Male</td>\n",
       "      <td>0</td>\n",
       "      <td>Yes</td>\n",
       "      <td>Yes</td>\n",
       "      <td>45</td>\n",
       "      <td>Yes</td>\n",
       "      <td>Yes</td>\n",
       "      <td>Fiber optic</td>\n",
       "      <td>No</td>\n",
       "      <td>...</td>\n",
       "      <td>Yes</td>\n",
       "      <td>No</td>\n",
       "      <td>No</td>\n",
       "      <td>Yes</td>\n",
       "      <td>One year</td>\n",
       "      <td>Yes</td>\n",
       "      <td>Credit card (automatic)</td>\n",
       "      <td>95.00</td>\n",
       "      <td>4368.85</td>\n",
       "      <td>No</td>\n",
       "    </tr>\n",
       "  </tbody>\n",
       "</table>\n",
       "<p>5 rows × 21 columns</p>\n",
       "</div>"
      ],
      "text/plain": [
       "   customerID  gender  SeniorCitizen Partner Dependents  tenure PhoneService   \n",
       "0  1768-ZAIFU  Female              1      No         No       1           No  \\\n",
       "1  2159-TURXX    Male              0      No         No       5          Yes   \n",
       "2  8261-GWDBQ  Female              1     Yes         No      60          Yes   \n",
       "3  2732-ISEZX  Female              0      No         No       5          Yes   \n",
       "4  7607-QKKTJ    Male              0     Yes        Yes      45          Yes   \n",
       "\n",
       "      MultipleLines InternetService       OnlineSecurity  ...   \n",
       "0  No phone service             DSL                   No  ...  \\\n",
       "1                No              No  No internet service  ...   \n",
       "2               Yes     Fiber optic                  Yes  ...   \n",
       "3                No              No  No internet service  ...   \n",
       "4               Yes     Fiber optic                   No  ...   \n",
       "\n",
       "      DeviceProtection          TechSupport          StreamingTV   \n",
       "0                   No                   No                   No  \\\n",
       "1  No internet service  No internet service  No internet service   \n",
       "2                  Yes                  Yes                  Yes   \n",
       "3  No internet service  No internet service  No internet service   \n",
       "4                  Yes                   No                   No   \n",
       "\n",
       "       StreamingMovies        Contract PaperlessBilling   \n",
       "0                   No  Month-to-month              Yes  \\\n",
       "1  No internet service  Month-to-month               No   \n",
       "2                  Yes        Two year              Yes   \n",
       "3  No internet service  Month-to-month              Yes   \n",
       "4                  Yes        One year              Yes   \n",
       "\n",
       "               PaymentMethod MonthlyCharges  TotalCharges Churn  \n",
       "0           Electronic check          25.20          25.2   Yes  \n",
       "1    Credit card (automatic)          20.05         95.55    No  \n",
       "2  Bank transfer (automatic)         116.05        6925.9    No  \n",
       "3               Mailed check          20.50         104.3    No  \n",
       "4    Credit card (automatic)          95.00       4368.85    No  \n",
       "\n",
       "[5 rows x 21 columns]"
      ]
     },
     "execution_count": 6026,
     "metadata": {},
     "output_type": "execute_result"
    }
   ],
   "source": [
    "train_df.head()"
   ]
  },
  {
   "attachments": {},
   "cell_type": "markdown",
   "metadata": {},
   "source": [
    "## ○ Hur ser fördelningen av target datan ut? Är den jämnt fördelad? Om inte, kan det ställa till med problem?\n"
   ]
  },
  {
   "cell_type": "code",
   "execution_count": 6027,
   "metadata": {},
   "outputs": [
    {
     "name": "stdout",
     "output_type": "stream",
     "text": [
      "Customers who stayed:   4148\n",
      "Customers who churned:   1486\n"
     ]
    },
    {
     "data": {
      "text/plain": [
       "<Axes: >"
      ]
     },
     "execution_count": 6027,
     "metadata": {},
     "output_type": "execute_result"
    },
    {
     "data": {
      "image/png": "[encoded data removed]",
      "text/plain": [
       "<Figure size 640x480 with 1 Axes>"
      ]
     },
     "metadata": {},
     "output_type": "display_data"
    }
   ],
   "source": [
    "target_dist = train_df['Churn'].value_counts()\n",
    "print('Customers who stayed:  ', target_dist[0])\n",
    "print('Customers who churned:  ', target_dist[1])\n",
    "\n",
    "train_df['Churn'].hist()"
   ]
  },
  {
   "cell_type": "code",
   "execution_count": 6028,
   "metadata": {},
   "outputs": [
    {
     "name": "stdout",
     "output_type": "stream",
     "text": [
      "Percent who stayed: 74.0%\n",
      "Percent who churned: 26.0%\n"
     ]
    }
   ],
   "source": [
    "print(f'Percent who stayed: {round(target_dist[0]/sum(target_dist), ndigits=2)*100}%')\n",
    "print(f'Percent who churned: {round(target_dist[1]/sum(target_dist), ndigits=2)*100}%')"
   ]
  },
  {
   "attachments": {},
   "cell_type": "markdown",
   "metadata": {},
   "source": [
    "### Vi kan se väldigt klart och tydligt att det är stor skillnad på vår target data. Detta kan orsaka att modellen predictar targeten som har majoritet.\n",
    "### Det vi kan göra åt detta är t.ex:\n",
    "#### ● Upsampla minoritets klassen, med en teknik som kallas SMOTE så skapar den upp ny data som liknar minoritets klassen.\n",
    "#### ● Undersampla majoritets klassen, då tar man bort data från majoritets klassen, detta är inte bra att göra när man har små dataset\n",
    "#### ● Ändra class weights parametern i XGboost modellen så att minoritets klassen har mer betydelse på prediktionen.\n",
    "\n",
    "### Jag kommer i första hand försöka ändra bland class weights parametern i modellen, men även pröva ett exempel där jag upsamplar minoritets klassen senare i min analys."
   ]
  },
  {
   "attachments": {},
   "cell_type": "markdown",
   "metadata": {},
   "source": [
    "# ● Förbered datan för att kunna användas av modellen\n",
    "## ○ Finns det data som ej borde användas? Varför i så fall?"
   ]
  },
  {
   "attachments": {},
   "cell_type": "markdown",
   "metadata": {},
   "source": [
    "### Eftersom att customerID attributet inte spelar någon roll i hurvida en kund lämnar eller ej så kommer jag droppa den."
   ]
  },
  {
   "cell_type": "code",
   "execution_count": 6029,
   "metadata": {},
   "outputs": [],
   "source": [
    "train_df = train_df.drop(columns='customerID')\n",
    "test_df = test_df.drop(columns='customerID')"
   ]
  },
  {
   "attachments": {},
   "cell_type": "markdown",
   "metadata": {},
   "source": [
    "### Ett annat attribut som jag oftast finner intressant under analyser är gender, jag testar att se om varesig man är en man eller kvinna spelar roll i hurvida sannorlikheten är att man kommer lämna eller inte."
   ]
  },
  {
   "cell_type": "code",
   "execution_count": 6030,
   "metadata": {},
   "outputs": [
    {
     "data": {
      "text/plain": [
       "gender\n",
       "Male      747\n",
       "Female    739\n",
       "Name: count, dtype: int64"
      ]
     },
     "execution_count": 6030,
     "metadata": {},
     "output_type": "execute_result"
    }
   ],
   "source": [
    "train_df[train_df['Churn']=='Yes']['gender'].value_counts()"
   ]
  },
  {
   "attachments": {},
   "cell_type": "markdown",
   "metadata": {},
   "source": [
    "### Som vi ser ovanför så är sannorlikheten väldigt lika för om man är man eller kvinna om man kommer lämna eller inte, vi skulle kunna göra så att vi droppar även detta attribut då det inte kommer göra någon direkt inverkan på vår modell, men jag väljer att låta den vara kvar."
   ]
  },
  {
   "attachments": {},
   "cell_type": "markdown",
   "metadata": {},
   "source": [
    "## ○ Det finns en hel del textdata som måste behandlas på något vis (finns flera olika alternativ)."
   ]
  },
  {
   "cell_type": "code",
   "execution_count": 6031,
   "metadata": {},
   "outputs": [
    {
     "data": {
      "text/plain": [
       "gender               object\n",
       "SeniorCitizen         int64\n",
       "Partner              object\n",
       "Dependents           object\n",
       "tenure                int64\n",
       "PhoneService         object\n",
       "MultipleLines        object\n",
       "InternetService      object\n",
       "OnlineSecurity       object\n",
       "OnlineBackup         object\n",
       "DeviceProtection     object\n",
       "TechSupport          object\n",
       "StreamingTV          object\n",
       "StreamingMovies      object\n",
       "Contract             object\n",
       "PaperlessBilling     object\n",
       "PaymentMethod        object\n",
       "MonthlyCharges      float64\n",
       "TotalCharges         object\n",
       "Churn                object\n",
       "dtype: object"
      ]
     },
     "execution_count": 6031,
     "metadata": {},
     "output_type": "execute_result"
    }
   ],
   "source": [
    "train_df.dtypes"
   ]
  },
  {
   "attachments": {},
   "cell_type": "markdown",
   "metadata": {},
   "source": [
    "### En observation efter att ha sett att TotalCharges är ett object men i datasetet verkar den innehålla floats precis som MonthlyCharges men att det är totalt vad kunden betalat i avgifter, när jag försökte göra om den till float så får jag error, jag skapar en funktion för att ta fram vad det är för värden och hur många som inte går att konvertera."
   ]
  },
  {
   "cell_type": "code",
   "execution_count": 6032,
   "metadata": {},
   "outputs": [],
   "source": [
    "def can_convert(value):\n",
    "    try:\n",
    "        float(value)\n",
    "        return True\n",
    "    except:\n",
    "        return False"
   ]
  },
  {
   "cell_type": "code",
   "execution_count": 6033,
   "metadata": {},
   "outputs": [],
   "source": [
    "train_unconvertable = []\n",
    "for v in train_df['TotalCharges']:\n",
    "    if can_convert(v) == False:\n",
    "        train_unconvertable.append(v)"
   ]
  },
  {
   "cell_type": "code",
   "execution_count": 6034,
   "metadata": {},
   "outputs": [],
   "source": [
    "test_unconvertable = []\n",
    "for v in test_df['TotalCharges']:\n",
    "    if can_convert(v) == False:\n",
    "        test_unconvertable.append(v)"
   ]
  },
  {
   "cell_type": "code",
   "execution_count": 6035,
   "metadata": {},
   "outputs": [
    {
     "name": "stdout",
     "output_type": "stream",
     "text": [
      "Unconvertable in train set:  [' ', ' ', ' ', ' ', ' ', ' ', ' ', ' ']\n",
      "Count:  8\n"
     ]
    }
   ],
   "source": [
    "print('Unconvertable in train set: ',train_unconvertable)\n",
    "print('Count: ', len(train_unconvertable))"
   ]
  },
  {
   "cell_type": "code",
   "execution_count": 6036,
   "metadata": {},
   "outputs": [
    {
     "name": "stdout",
     "output_type": "stream",
     "text": [
      "Unconvertable in test set:  [' ', ' ', ' ']\n",
      "Count:  3\n"
     ]
    }
   ],
   "source": [
    "print('Unconvertable in test set: ',test_unconvertable)\n",
    "print('Count: ', len(test_unconvertable))"
   ]
  },
  {
   "attachments": {},
   "cell_type": "markdown",
   "metadata": {},
   "source": [
    "### Nu ser jag att samtliga värden som inte går att konvertera till float är tomma string rader, jag väljer att byta ut dom till 0 eftersom att det ska betyda att kunden inte blivit debiterad någonting ännu, och detta kommer bli bättre för min egna encoder senare. Men eftersom att jag gör så med träningsdatan så behöver jag även göra det med testdatan. Man ska ju inte ändra i testdatan utan låta den vara intakt, men jag känner att detta inte gör någon skillnad då en tom string är samma sak som att den hade varit 0."
   ]
  },
  {
   "cell_type": "code",
   "execution_count": 6037,
   "metadata": {},
   "outputs": [],
   "source": [
    "train_df.loc[train_df['TotalCharges'] == ' ', 'TotalCharges'] = 0\n",
    "test_df.loc[test_df['TotalCharges'] == ' ', 'TotalCharges'] = 0"
   ]
  },
  {
   "cell_type": "code",
   "execution_count": 6038,
   "metadata": {},
   "outputs": [],
   "source": [
    "train_df['TotalCharges'] = train_df['TotalCharges'].astype(float)\n",
    "test_df['TotalCharges'] = test_df['TotalCharges'].astype(float)"
   ]
  },
  {
   "attachments": {},
   "cell_type": "markdown",
   "metadata": {},
   "source": [
    "### Efter att ha kollat vilka typer av data som är i datasetet så ser jag att majoriteten är object och sedan finns det två int och efter att jag gjort det tidigare steget så finns även nu två float, min första tanke och det jag vill pröva först är att göra om object till int, men dom andra låter jag vara kvar som dom är, men för att se om detta får ett bättre resultat än att även göra om floaten till int så gör jag en enkel funktion som predictar med dom olika alternativen och ser vilken som får bäst score."
   ]
  },
  {
   "cell_type": "code",
   "execution_count": 6039,
   "metadata": {},
   "outputs": [],
   "source": [
    "def check_best_encoder(train_df,test_df, categorical=False):\n",
    "    x_train = train_df.drop(columns='Churn')\n",
    "    y_train = train_df['Churn']\n",
    "    x_test = test_df.drop(columns='Churn')\n",
    "    y_test = test_df['Churn']\n",
    "    m_x_train = xgb.DMatrix(data=x_train,label=y_train, enable_categorical=categorical)\n",
    "    clf = xgb.train(\n",
    "        params={\n",
    "            'objective':'multi:softmax',\n",
    "            'num_class':2,\n",
    "        },\n",
    "        dtrain = m_x_train)\n",
    "    m_x_test = xgb.DMatrix(data=x_test,enable_categorical=True)\n",
    "    predictions = clf.predict(m_x_test)\n",
    "    return accuracy_score(y_test,predictions)"
   ]
  },
  {
   "cell_type": "code",
   "execution_count": 6040,
   "metadata": {},
   "outputs": [],
   "source": [
    "# Eftersom att vi vill att testdatan går igenom samma LabelEncoder som träningsdatan så slänger jag in båda två in i funktionen och returnerar encodedade datasets\n",
    "def encode_columns(train_df,test_df):\n",
    "    columns = train_df.columns\n",
    "    train_df_func = train_df.copy()\n",
    "    test_df_func = test_df.copy()\n",
    "    for c in columns:\n",
    "        if train_df[c].dtype == 'object':\n",
    "            le = LabelEncoder()\n",
    "            le.fit(train_df[c])\n",
    "            train_df_func[c] = le.transform(train_df[c])\n",
    "            test_df_func[c] = le.transform(test_df[c])\n",
    "        else:\n",
    "            continue\n",
    "    return train_df_func, test_df_func"
   ]
  },
  {
   "cell_type": "code",
   "execution_count": 6041,
   "metadata": {},
   "outputs": [],
   "source": [
    "my_encoded_train_df, my_encoded_test_df = encode_columns(train_df,test_df)\n",
    "my_encoder = check_best_encoder(my_encoded_train_df, my_encoded_test_df)"
   ]
  },
  {
   "cell_type": "code",
   "execution_count": 6042,
   "metadata": {},
   "outputs": [],
   "source": [
    "def encode_columns_only_int(train_df,test_df):\n",
    "    columns = train_df.columns\n",
    "    train_df_func = train_df.copy()\n",
    "    test_df_func = test_df.copy()\n",
    "    for c in columns:\n",
    "        try:\n",
    "            le = LabelEncoder()\n",
    "            le.fit(train_df[c])\n",
    "            train_df_func[c] = le.transform(train_df[c])\n",
    "            test_df_func[c] = le.transform(test_df[c])\n",
    "        except:\n",
    "            continue\n",
    "    return train_df_func, test_df_func"
   ]
  },
  {
   "cell_type": "code",
   "execution_count": 6043,
   "metadata": {},
   "outputs": [],
   "source": [
    "encoded_train_df, encoded_test_df = encode_columns_only_int(train_df,test_df)\n",
    "only_int_encoder = check_best_encoder(encoded_train_df, encoded_test_df)"
   ]
  },
  {
   "cell_type": "code",
   "execution_count": 6044,
   "metadata": {},
   "outputs": [],
   "source": [
    "def category_columns(train_df,test_df):\n",
    "    columns = train_df.columns\n",
    "    train_df_func = train_df.copy()\n",
    "    test_df_func = test_df.copy()\n",
    "    for c in columns:\n",
    "        if c == 'Churn':\n",
    "            le = LabelEncoder()\n",
    "            le.fit(train_df[c])\n",
    "            train_df_func[c] = le.transform(train_df[c])\n",
    "            test_df_func[c] = le.transform(test_df[c])\n",
    "            continue\n",
    "        train_df_func[c] = train_df_func[c].astype('category')\n",
    "        test_df_func[c] = test_df_func[c].astype('category')\n",
    "    return train_df_func, test_df_func"
   ]
  },
  {
   "cell_type": "code",
   "execution_count": 6045,
   "metadata": {},
   "outputs": [],
   "source": [
    "category_train_df, category_test_df = category_columns(train_df,test_df)\n",
    "category_encoder = check_best_encoder(category_train_df, category_test_df, True)"
   ]
  },
  {
   "cell_type": "code",
   "execution_count": 6046,
   "metadata": {},
   "outputs": [
    {
     "name": "stdout",
     "output_type": "stream",
     "text": [
      "Score for my encoder: 0.7977288857345636\n",
      "Score for only int encoder: 0.7721788502484032\n",
      "Score for only int encoder: 0.7828246983676366\n"
     ]
    }
   ],
   "source": [
    "print(f'Score for my encoder: {my_encoder}')\n",
    "print(f'Score for only int encoder: {only_int_encoder}')\n",
    "print(f'Score for only int encoder: {category_encoder}')"
   ]
  },
  {
   "attachments": {},
   "cell_type": "markdown",
   "metadata": {},
   "source": [
    "### Eftersom att jag får bättre score på min encoder där jag inte konverterar floaten till int så väljer jag att fortsätta med den i min analys."
   ]
  },
  {
   "cell_type": "code",
   "execution_count": 6047,
   "metadata": {},
   "outputs": [],
   "source": [
    "x_train = my_encoded_train_df.drop(columns='Churn')\n",
    "y_train = my_encoded_train_df['Churn']\n",
    "\n",
    "x_test = my_encoded_test_df.drop(columns='Churn')\n",
    "y_test = my_encoded_test_df['Churn']"
   ]
  },
  {
   "attachments": {},
   "cell_type": "markdown",
   "metadata": {},
   "source": [
    "# ● Träna en XGBoost modell"
   ]
  },
  {
   "attachments": {},
   "cell_type": "markdown",
   "metadata": {},
   "source": [
    "### Nu kommer jag träna en modell med deras api precis som jag gjort tidigare när jag utforskade olika encoders men denna gång lite mer utdraget så man ser enklare vad som är gjort."
   ]
  },
  {
   "cell_type": "code",
   "execution_count": 6048,
   "metadata": {},
   "outputs": [],
   "source": [
    "m_x_train = xgb.DMatrix(data=x_train, label=y_train)"
   ]
  },
  {
   "cell_type": "code",
   "execution_count": 6049,
   "metadata": {},
   "outputs": [
    {
     "data": {
      "text/plain": [
       "array([1, 0])"
      ]
     },
     "execution_count": 6049,
     "metadata": {},
     "output_type": "execute_result"
    }
   ],
   "source": [
    "my_encoded_train_df['Churn'].unique()"
   ]
  },
  {
   "attachments": {},
   "cell_type": "markdown",
   "metadata": {},
   "source": [
    "### Vi har två stycken klasser så när vi använder multi:softmax som objective i modellen som verkar vara enklaste inställningen för att få ut 0 eller 1 som target."
   ]
  },
  {
   "cell_type": "code",
   "execution_count": 6050,
   "metadata": {},
   "outputs": [],
   "source": [
    "clf = xgb.train(\n",
    "    params={\n",
    "        'objective':'multi:softmax',\n",
    "        'num_class':2,\n",
    "    },\n",
    "    dtrain = m_x_train\n",
    ")"
   ]
  },
  {
   "cell_type": "code",
   "execution_count": 6051,
   "metadata": {},
   "outputs": [],
   "source": [
    "m_x_test = xgb.DMatrix(data=x_test)"
   ]
  },
  {
   "attachments": {},
   "cell_type": "markdown",
   "metadata": {},
   "source": [
    "# ● Utvärdera modellen\n",
    "## ○ Beräkna accuracy"
   ]
  },
  {
   "cell_type": "code",
   "execution_count": 6052,
   "metadata": {},
   "outputs": [],
   "source": [
    "predictions = clf.predict(m_x_test)"
   ]
  },
  {
   "cell_type": "code",
   "execution_count": 6053,
   "metadata": {},
   "outputs": [
    {
     "data": {
      "text/plain": [
       "0.7977288857345636"
      ]
     },
     "execution_count": 6053,
     "metadata": {},
     "output_type": "execute_result"
    }
   ],
   "source": [
    "accuracy_score(y_test,predictions)"
   ]
  },
  {
   "attachments": {},
   "cell_type": "markdown",
   "metadata": {},
   "source": [
    "### Bara genom att skapa en egen modell enligt XGBoosts dokumentation så får jag genast ett ganska bra score på nästan 80%, målet var att komma över 78.5% så inte illa pinkat. Men jag kommer dock längre ner försöka pusha scoren högre."
   ]
  },
  {
   "attachments": {},
   "cell_type": "markdown",
   "metadata": {},
   "source": [
    "## ○ Analysera vilka attribut som har störst påverkan"
   ]
  },
  {
   "cell_type": "code",
   "execution_count": 6054,
   "metadata": {},
   "outputs": [
    {
     "data": {
      "text/plain": [
       "<Axes: title={'center': 'Feature importance'}, xlabel='F score', ylabel='Features'>"
      ]
     },
     "execution_count": 6054,
     "metadata": {},
     "output_type": "execute_result"
    },
    {
     "data": {
      "image/png": "[encoded data removed]",
      "text/plain": [
       "<Figure size 640x480 with 1 Axes>"
      ]
     },
     "metadata": {},
     "output_type": "display_data"
    }
   ],
   "source": [
    "xgb.plot_importance(clf)"
   ]
  },
  {
   "attachments": {},
   "cell_type": "markdown",
   "metadata": {},
   "source": [
    "### Dom attribut som verkligen dominerar är MonthlyCharges, TotalCharges och tenure.\n",
    "### MonthlyCharges, detta kan bero på att höga avgifter gör att en kund avslutar sitt abonnemang.\n",
    "### TotalCharges, detta kan bero på att om en kund har höga totala kostnader hos företaget gör att dom är mindre troliga att lämna.\n",
    "### Tenure, lite samma som i fallet med TotalCharges så kan den ha stor vikt om det är lägre chans för avhopp ju längre en kund har varit kund hos företaget.\n",
    "\n",
    "### För att undersöka detta så ska jag gå igenom samtliga och se om det stämmer baserat på avhopp."
   ]
  },
  {
   "cell_type": "code",
   "execution_count": 6055,
   "metadata": {},
   "outputs": [],
   "source": [
    "def get_column_values_by_churn(dataset, column, churn_value):\n",
    "    values = dataset.loc[dataset['Churn'] == churn_value, column].values\n",
    "    return values"
   ]
  },
  {
   "cell_type": "code",
   "execution_count": 6056,
   "metadata": {},
   "outputs": [],
   "source": [
    "monthly_churn_yes_values = get_column_values_by_churn(my_encoded_test_df, 'MonthlyCharges', 1)\n",
    "monthly_churn_no_values = get_column_values_by_churn(my_encoded_test_df, 'MonthlyCharges', 0)\n",
    "total_churn_yes_values = get_column_values_by_churn(my_encoded_test_df, 'TotalCharges', 1)\n",
    "total_churn_no_values = get_column_values_by_churn(my_encoded_test_df, 'TotalCharges', 0)\n",
    "tenure_churn_yes_values = get_column_values_by_churn(my_encoded_test_df, 'tenure', 1)\n",
    "tenure_churn_no_values = get_column_values_by_churn(my_encoded_test_df, 'tenure', 0)"
   ]
  },
  {
   "cell_type": "code",
   "execution_count": 6057,
   "metadata": {},
   "outputs": [
    {
     "name": "stdout",
     "output_type": "stream",
     "text": [
      "Genomsnittlig månadskostnad för dom som lämnat: 74.36671018276758\n",
      "Genomsnittlig månadskostnad för dom som stannat: 60.80740740740737\n"
     ]
    }
   ],
   "source": [
    "print(f'Genomsnittlig månadskostnad för dom som lämnat: {sum(monthly_churn_yes_values)/len(monthly_churn_yes_values)}')\n",
    "print(f'Genomsnittlig månadskostnad för dom som stannat: {sum(monthly_churn_no_values)/len(monthly_churn_no_values)}')"
   ]
  },
  {
   "attachments": {},
   "cell_type": "markdown",
   "metadata": {},
   "source": [
    "### Detta bevisar att ju högre kostnad desto högre är risken att kunden lämnar."
   ]
  },
  {
   "cell_type": "code",
   "execution_count": 6058,
   "metadata": {},
   "outputs": [
    {
     "name": "stdout",
     "output_type": "stream",
     "text": [
      "Genomsnittlig totalkostnad för dom som lämnat: 1517.6588772845962\n",
      "Genomsnittlig totalkostnad för dom som stannat: 2452.960428849906\n"
     ]
    }
   ],
   "source": [
    "print(f'Genomsnittlig totalkostnad för dom som lämnat: {sum(total_churn_yes_values)/len(total_churn_yes_values)}')\n",
    "print(f'Genomsnittlig totalkostnad för dom som stannat: {sum(total_churn_no_values)/len(total_churn_no_values)}')"
   ]
  },
  {
   "attachments": {},
   "cell_type": "markdown",
   "metadata": {},
   "source": [
    "### Detta bevisar att ju mer en kund har i totala kostnader desto lägre chans är det att den lämnar."
   ]
  },
  {
   "cell_type": "code",
   "execution_count": 6059,
   "metadata": {},
   "outputs": [
    {
     "name": "stdout",
     "output_type": "stream",
     "text": [
      "Genomsnittlig kundtid för dom som lämnat: 17.642297650130548\n",
      "Genomsnittlig kundtid för dom som stannat: 36.32846003898636\n"
     ]
    }
   ],
   "source": [
    "print(f'Genomsnittlig kundtid för dom som lämnat: {sum(tenure_churn_yes_values)/len(tenure_churn_yes_values)}')\n",
    "print(f'Genomsnittlig kundtid för dom som stannat: {sum(tenure_churn_no_values)/len(tenure_churn_no_values)}')"
   ]
  },
  {
   "attachments": {},
   "cell_type": "markdown",
   "metadata": {},
   "source": [
    "### Detta bevisar att ju längre kunden har varit kund hos företaget desto mindre chans är det att den lämnar. "
   ]
  },
  {
   "attachments": {},
   "cell_type": "markdown",
   "metadata": {},
   "source": [
    "## ○ Rita ut en confusion matrix och analysera hur modellen gör prediktioner och vilka typer av fel den gör."
   ]
  },
  {
   "cell_type": "code",
   "execution_count": 6060,
   "metadata": {},
   "outputs": [],
   "source": [
    "lab = y_test.unique()\n",
    "lab = sorted(lab)\n",
    "cm = confusion_matrix(y_test, predictions, labels=lab)"
   ]
  },
  {
   "cell_type": "code",
   "execution_count": 6061,
   "metadata": {},
   "outputs": [
    {
     "data": {
      "image/png": "[encoded data removed]",
      "text/plain": [
       "<Figure size 640x480 with 2 Axes>"
      ]
     },
     "metadata": {},
     "output_type": "display_data"
    }
   ],
   "source": [
    "disp = ConfusionMatrixDisplay(confusion_matrix=cm, display_labels=lab)\n",
    "disp.plot()\n",
    "plt.show()"
   ]
  },
  {
   "cell_type": "code",
   "execution_count": 6062,
   "metadata": {},
   "outputs": [
    {
     "data": {
      "text/plain": [
       "Churn\n",
       "No     1026\n",
       "Yes     383\n",
       "Name: count, dtype: int64"
      ]
     },
     "execution_count": 6062,
     "metadata": {},
     "output_type": "execute_result"
    }
   ],
   "source": [
    "test_df['Churn'].value_counts()"
   ]
  },
  {
   "attachments": {},
   "cell_type": "markdown",
   "metadata": {},
   "source": [
    "### För att få en lite klarare bild av vad vi kollar på så skrev jag även raden ovanför på dom riktiga värdena. Som vi då ser i tabellen så är det högst procentuella fel när den ska predikta om en kund lämnar, och detta har högst troligen med att göra att när vi tränar modellen med så ojämnt fördelat targetdata som i en tidigare fråga så blir det att modellen väljer den som har majoritet. Och eftersom att beställaren är ute efter att kunna förutspå om en kund ska lämna så även fast scoren blir bra så kanske det inte är vad dom är ute efter. Jag hade ansett att ett lite sämre score men med flera rätt där det faktiskt betyder skulle vara en bättre modell, så beställaren kan vidta åtgärder. Och eftersom att vi i den tidigare frågan vet vilka attribut som spelar mest roll för kundens beslut så vet man vad man ska fokusera på och hur man ska öka kundlojaliteten.\n",
    "### En stor del är ju priset på tjänsten och hur länge en kund har varit kund, och detta kanske man kan lägga fokus på att skapa någon form av kampanj att man får ett bättre pris under en period när man startar sitt konto eller se över kostnaden i det stora hela.\n",
    "### Jag kommer försöka se om jag kan ändra en parameter som heter weight i modellen för att försöka få den att predicta mer som lämnat."
   ]
  },
  {
   "attachments": {},
   "cell_type": "markdown",
   "metadata": {},
   "source": [
    "# Nedan så kommer jag försöka få fler rätta prediktioner på dom som lämnat."
   ]
  },
  {
   "attachments": {},
   "cell_type": "markdown",
   "metadata": {},
   "source": [
    "### Först så vill jag utforska lite angående att vi har ett ojämt antal targets i datasetet, 74% som stannade och 26% som lämnade, så jag kommer titta närmare på att balansera upp det genom att ändra i weight så att modellen har en högre chans att välja den."
   ]
  },
  {
   "cell_type": "code",
   "execution_count": 6063,
   "metadata": {},
   "outputs": [],
   "source": [
    "\n",
    "target_dist = [74, 26]  # Procent för varje klass [stannade, lämnade]\n",
    "\n",
    "# Beräkna vikter baserat på förhållandet mellan andelarna\n",
    "weight_stayed = 1.0\n",
    "weight_churned = target_dist[0] / target_dist[1]\n",
    "\n",
    "# Skapa en lista med feature weights baserat på målklassen för varje exempel\n",
    "feature = [weight_stayed if y == 0 else weight_churned for y in y_train]\n",
    "\n",
    "m_x_train = xgb.DMatrix(data=x_train, label=y_train, weight=feature)\n",
    "m_x_test = xgb.DMatrix(data=x_test)"
   ]
  },
  {
   "cell_type": "code",
   "execution_count": 6064,
   "metadata": {},
   "outputs": [],
   "source": [
    "clf = xgb.train(\n",
    "    params={\n",
    "        'objective':'multi:softmax',\n",
    "        'num_class':2,\n",
    "    },\n",
    "    dtrain = m_x_train\n",
    ")"
   ]
  },
  {
   "cell_type": "code",
   "execution_count": 6065,
   "metadata": {},
   "outputs": [],
   "source": [
    "predictions = clf.predict(m_x_test)"
   ]
  },
  {
   "cell_type": "code",
   "execution_count": 6066,
   "metadata": {},
   "outputs": [
    {
     "data": {
      "text/plain": [
       "0.7459190915542938"
      ]
     },
     "execution_count": 6066,
     "metadata": {},
     "output_type": "execute_result"
    }
   ],
   "source": [
    "accuracy_score(y_test,predictions)"
   ]
  },
  {
   "cell_type": "code",
   "execution_count": 6067,
   "metadata": {},
   "outputs": [],
   "source": [
    "lab = y_test.unique()\n",
    "lab = sorted(lab)\n",
    "cm = confusion_matrix(y_test, predictions, labels=lab)"
   ]
  },
  {
   "cell_type": "code",
   "execution_count": 6068,
   "metadata": {},
   "outputs": [
    {
     "data": {
      "image/png": "[encoded data removed]",
      "text/plain": [
       "<Figure size 640x480 with 2 Axes>"
      ]
     },
     "metadata": {},
     "output_type": "display_data"
    }
   ],
   "source": [
    "disp = ConfusionMatrixDisplay(confusion_matrix=cm, display_labels=lab)\n",
    "disp.plot()\n",
    "plt.show()"
   ]
  },
  {
   "attachments": {},
   "cell_type": "markdown",
   "metadata": {},
   "source": [
    "### Genom att sätta weights så kompenseras predictsen ut lite mer och den faktiskt kan sätta några som att dom har lämnat. Detta kanske är bättre i detta fallet då målet är att förutspå det och kanske rikta in sig på dom kunderna att söka sig till, då är det bättre att få fel än åt andra hållet."
   ]
  },
  {
   "attachments": {},
   "cell_type": "markdown",
   "metadata": {},
   "source": [
    "## Nu kommer jag att testa en till metod man kan använda när det är ojämna targets i datasetet, SMOTE. Den kompenserar upp datasetet med datapunkter som är lika dom som redan finns för att göra så att det finns lika många datapunkter av båda targets."
   ]
  },
  {
   "cell_type": "code",
   "execution_count": 6069,
   "metadata": {},
   "outputs": [],
   "source": [
    "from imblearn.over_sampling import SMOTE\n",
    "\n",
    "oversample = SMOTE(sampling_strategy='auto', random_state=42)\n",
    "X, y = oversample.fit_resample(x_train, y_train)"
   ]
  },
  {
   "cell_type": "code",
   "execution_count": 6070,
   "metadata": {},
   "outputs": [],
   "source": [
    "m_x_train = xgb.DMatrix(data=X, label=y)\n",
    "m_x_test = xgb.DMatrix(data=x_test)"
   ]
  },
  {
   "cell_type": "code",
   "execution_count": 6071,
   "metadata": {},
   "outputs": [],
   "source": [
    "clf = xgb.train(\n",
    "    params={\n",
    "        'objective':'multi:softmax',\n",
    "        'num_class':2,\n",
    "    },\n",
    "    dtrain = m_x_train\n",
    ")"
   ]
  },
  {
   "cell_type": "code",
   "execution_count": 6072,
   "metadata": {},
   "outputs": [],
   "source": [
    "predictions = clf.predict(m_x_test)"
   ]
  },
  {
   "cell_type": "code",
   "execution_count": 6073,
   "metadata": {},
   "outputs": [
    {
     "data": {
      "text/plain": [
       "0.7537260468417317"
      ]
     },
     "execution_count": 6073,
     "metadata": {},
     "output_type": "execute_result"
    }
   ],
   "source": [
    "accuracy_score(y_test,predictions)"
   ]
  },
  {
   "cell_type": "code",
   "execution_count": 6074,
   "metadata": {},
   "outputs": [],
   "source": [
    "lab = y_test.unique()\n",
    "lab = sorted(lab)\n",
    "cm = confusion_matrix(y_test, predictions, labels=lab)"
   ]
  },
  {
   "cell_type": "code",
   "execution_count": 6075,
   "metadata": {},
   "outputs": [
    {
     "data": {
      "image/png": "[encoded data removed]",
      "text/plain": [
       "<Figure size 640x480 with 2 Axes>"
      ]
     },
     "metadata": {},
     "output_type": "display_data"
    }
   ],
   "source": [
    "disp = ConfusionMatrixDisplay(confusion_matrix=cm, display_labels=lab)\n",
    "disp.plot()\n",
    "plt.show()"
   ]
  },
  {
   "attachments": {},
   "cell_type": "markdown",
   "metadata": {},
   "source": [
    "### Lite som att ändra weight så gör detta att den får mer rätt på dom som lämnat, men till en kostnad av felaktiga prediktioner på dom som stannat. "
   ]
  },
  {
   "attachments": {},
   "cell_type": "markdown",
   "metadata": {},
   "source": [
    "# Nu kommer jag försöka ändra parametrar för att få ett bättre originalscore, detta oberoende av vilka fel den gör."
   ]
  },
  {
   "cell_type": "code",
   "execution_count": 6076,
   "metadata": {},
   "outputs": [],
   "source": [
    "X = my_encoded_train_df.drop(columns=['Churn'])\n",
    "y = my_encoded_train_df['Churn']"
   ]
  },
  {
   "attachments": {},
   "cell_type": "markdown",
   "metadata": {},
   "source": [
    "### Först delar vi upp original träningsdatan i validering och träningsdataset, eftersom att vi vill få fram opartiska bästa parametrar för modellen."
   ]
  },
  {
   "cell_type": "code",
   "execution_count": 6077,
   "metadata": {},
   "outputs": [],
   "source": [
    "x_train, x_validation, y_train, y_validation = train_test_split(X,y, test_size=0.3, random_state=42)"
   ]
  },
  {
   "cell_type": "code",
   "execution_count": 6078,
   "metadata": {},
   "outputs": [],
   "source": [
    "m_x_train = xgb.DMatrix(data=x_validation, label=y_validation)\n",
    "m_x_test = xgb.DMatrix(data=x_test)"
   ]
  },
  {
   "cell_type": "code",
   "execution_count": 6079,
   "metadata": {},
   "outputs": [
    {
     "name": "stdout",
     "output_type": "stream",
     "text": [
      "Objective: reg:squarederror, Score: 0.7835344215755855\n",
      "Objective: binary:logistic, Score: 0.7877927608232789\n"
     ]
    }
   ],
   "source": [
    "objectives = ['reg:squarederror', 'reg:logistic','binary:logistic','count:poisson','rank:pairwise']\n",
    "best_score = 0\n",
    "# 'reg:logistic', 'binary:logistic', 'count:poisson', 'multi:softmax', 'rank:pairwise', 'reg:gamma'\n",
    "for o in objectives:\n",
    "    clf = xgb.train(\n",
    "        params={\n",
    "            'booster':'gblinear',\n",
    "            'objective':o,\n",
    "        },\n",
    "        dtrain = m_x_train\n",
    "    )\n",
    "    predictions = clf.predict(m_x_test)\n",
    "    binary_predictions = [1 if pred >= 0.5 else 0 for pred in predictions]\n",
    "    score = accuracy_score(y_test,binary_predictions)\n",
    "    if score > best_score:\n",
    "        best_score = score\n",
    "        print(f'Objective: {o}, Score: {score}')\n",
    "# if score > best_score:\n",
    "#     best_score = score\n",
    "#     print(f'rate_drop: {rd}, skip_drop: {sd}, eta: {e}, max_depth: {md}, Score: {score}')"
   ]
  },
  {
   "attachments": {},
   "cell_type": "markdown",
   "metadata": {},
   "source": [
    "### Efter att ha testat dart som booster så märker jag att rate_drop och skip_drop verkar inte göra någon skillnad jämfört med den vanliga gbtree så jag väljer att inte fokusera alls på den.\n",
    "### Jag märker även att ha linear som booster inte kommer upp i samma resultat som att ha träd, att träd är bättre verkar vara ett ganska vanligt förekommande men jag ville testa vad det blev för skillnad i just detta fall med mitt dataset."
   ]
  },
  {
   "cell_type": "code",
   "execution_count": 6088,
   "metadata": {},
   "outputs": [
    {
     "name": "stdout",
     "output_type": "stream",
     "text": [
      "ETA: 0.1, max depth: 1, objective: reg:squarederror tree_method: auto Score: 0.7281760113555713\n",
      "ETA: 0.2, max depth: 1, objective: reg:squarederror tree_method: auto Score: 0.7679205110007097\n",
      "ETA: 0.5, max depth: 1, objective: reg:squarederror tree_method: auto Score: 0.7757274662881476\n",
      "ETA: 0.6, max depth: 1, objective: reg:squarederror tree_method: auto Score: 0.7913413768630234\n",
      "ETA: 0.8, max depth: 1, objective: reg:squarederror tree_method: auto Score: 0.794889992902768\n",
      "ETA: 0.9, max depth: 1, objective: reg:squarederror tree_method: auto Score: 0.7963094393186657\n",
      "ETA: 0.6, max depth: 2, objective: reg:squarederror tree_method: auto Score: 0.801277501774308\n",
      "ETA: 0.4, max depth: 4, objective: reg:squarederror tree_method: auto Score: 0.8069552874378992\n",
      "ETA: 0.8, max depth: 2, objective: reg:logistic tree_method: approx Score: 0.808374733853797\n"
     ]
    }
   ],
   "source": [
    "objectives = ['reg:squarederror', 'reg:logistic','binary:logistic','count:poisson','rank:pairwise', 'multi:softmax']\n",
    "eta = [0.1,0.2,0.3,0.4,0.5,0.6,0.7,0.8,0.9,1]\n",
    "max_depth = [1,2,3,4,5,6,7,8,9,10]\n",
    "# max_delta_step = [0,1,2,3,4,5,6,7,8,9]\n",
    "tree_method = ['auto','approx','hist']\n",
    "best_score = 0\n",
    "\n",
    "for o in objectives:\n",
    "    for tm in tree_method:\n",
    "        for md in max_depth:\n",
    "            for e in eta:\n",
    "                if o == 'multi:softmax':\n",
    "                    clf = xgb.train(\n",
    "                        params={\n",
    "                            # 'objective':'multi:softmax',\n",
    "                            'num_class':2,\n",
    "                            'objective':o,\n",
    "                            'eta':e,\n",
    "                            'max_depth':md,\n",
    "                            # 'max_delta_step':mds\n",
    "                            'tree_method':tm\n",
    "                        },\n",
    "                        dtrain = m_x_train\n",
    "                    )\n",
    "                else:\n",
    "                    clf = xgb.train(\n",
    "                        params={\n",
    "                            'objective':o,\n",
    "                            'eta':e,\n",
    "                            'max_depth':md,\n",
    "                            'tree_method':tm\n",
    "                        },\n",
    "                        dtrain = m_x_train\n",
    "                    )\n",
    "                predictions = clf.predict(m_x_test)\n",
    "                binary_predictions = [1 if pred >= 0.5 else 0 for pred in predictions]\n",
    "                score = accuracy_score(y_test,binary_predictions)\n",
    "                if score > best_score:\n",
    "                    best_score = score\n",
    "                    print(f'ETA: {e}, max depth: {md}, objective: {o} tree_method: {tm} Score: {score}')"
   ]
  },
  {
   "attachments": {},
   "cell_type": "markdown",
   "metadata": {},
   "source": [
    "### max_delta_step verkar inte göra så stor skillnad i resultat så jag kommenterar ut den.\n",
    "### Intressant nog så dyker det upp lite olika alternativ när jag kör denna, men jag tog en av dom som dök upp mest."
   ]
  },
  {
   "cell_type": "code",
   "execution_count": 6089,
   "metadata": {},
   "outputs": [],
   "source": [
    "m_x_train = xgb.DMatrix(data=x_train, label=y_train)\n",
    "m_x_test = xgb.DMatrix(data=x_test)"
   ]
  },
  {
   "cell_type": "code",
   "execution_count": 6090,
   "metadata": {},
   "outputs": [],
   "source": [
    "clf = xgb.train(\n",
    "            params={\n",
    "                'objective':'reg:squarederror',\n",
    "                # 'num_class':2,\n",
    "                'eta':0.4,\n",
    "                'max_depth':4,\n",
    "                # 'max_delta_step':0,\n",
    "                'tree_method':'auto',\n",
    "            },\n",
    "            dtrain = m_x_train\n",
    "        )"
   ]
  },
  {
   "cell_type": "code",
   "execution_count": 6091,
   "metadata": {},
   "outputs": [],
   "source": [
    "predictions = clf.predict(m_x_test)"
   ]
  },
  {
   "cell_type": "code",
   "execution_count": 6092,
   "metadata": {},
   "outputs": [],
   "source": [
    "binary_predictions = [1 if pred >= 0.5 else 0 for pred in predictions]"
   ]
  },
  {
   "cell_type": "code",
   "execution_count": 6093,
   "metadata": {},
   "outputs": [
    {
     "data": {
      "text/plain": [
       "0.8069552874378992"
      ]
     },
     "execution_count": 6093,
     "metadata": {},
     "output_type": "execute_result"
    }
   ],
   "source": [
    "accuracy_score(y_test,binary_predictions)"
   ]
  },
  {
   "cell_type": "code",
   "execution_count": 6094,
   "metadata": {},
   "outputs": [],
   "source": [
    "lab = y_test.unique()\n",
    "lab = sorted(lab)\n",
    "cm = confusion_matrix(y_test, binary_predictions, labels=lab)"
   ]
  },
  {
   "cell_type": "code",
   "execution_count": 6095,
   "metadata": {},
   "outputs": [
    {
     "data": {
      "image/png": "[encoded data removed]",
      "text/plain": [
       "<Figure size 640x480 with 2 Axes>"
      ]
     },
     "metadata": {},
     "output_type": "display_data"
    }
   ],
   "source": [
    "disp = ConfusionMatrixDisplay(confusion_matrix=cm, display_labels=lab)\n",
    "disp.plot()\n",
    "plt.show()"
   ]
  },
  {
   "attachments": {},
   "cell_type": "markdown",
   "metadata": {},
   "source": [
    "### Något bättre resultat än när vi bara körde softmax från första början, och även ett fåtal till som är klassade att lämna, men jag skulle fortfarande säga att man vill försöka balansera scoren med hur många rätt den gör på dom som är påväg att lämna istället för att bara få bra score."
   ]
  }
 ],
 "metadata": {
  "kernelspec": {
   "display_name": "env",
   "language": "python",
   "name": "python3"
  },
  "language_info": {
   "codemirror_mode": {
    "name": "ipython",
    "version": 3
   },
   "file_extension": ".py",
   "mimetype": "text/x-python",
   "name": "python",
   "nbconvert_exporter": "python",
   "pygments_lexer": "ipython3",
   "version": "3.11.0"
  },
  "orig_nbformat": 4
 },
 "nbformat": 4,
 "nbformat_minor": 2
}
