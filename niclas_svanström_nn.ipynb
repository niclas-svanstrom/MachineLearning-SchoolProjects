{
 "cells": [
  {
   "cell_type": "code",
   "execution_count": 1,
   "metadata": {},
   "outputs": [],
   "source": [
    "import pandas as pd\n",
    "import matplotlib.pyplot as plt\n",
    "import numpy as np\n",
    "\n",
    "from sklearn.neural_network import MLPClassifier\n",
    "from sklearn.model_selection import train_test_split\n",
    "from sklearn.preprocessing import MinMaxScaler\n",
    "\n",
    "from sklearn.metrics import confusion_matrix, ConfusionMatrixDisplay"
   ]
  },
  {
   "cell_type": "code",
   "execution_count": 2,
   "metadata": {},
   "outputs": [],
   "source": [
    "train_df = pd.read_csv('./data/churn_train.csv')\n",
    "test_df = pd.read_csv('./data/churn_test.csv')"
   ]
  },
  {
   "attachments": {},
   "cell_type": "markdown",
   "metadata": {},
   "source": [
    "# ● Analysera datan"
   ]
  },
  {
   "cell_type": "code",
   "execution_count": 3,
   "metadata": {},
   "outputs": [
    {
     "data": {
      "text/plain": [
       "customerID          0\n",
       "gender              0\n",
       "SeniorCitizen       0\n",
       "Partner             0\n",
       "Dependents          0\n",
       "tenure              0\n",
       "PhoneService        0\n",
       "MultipleLines       0\n",
       "InternetService     0\n",
       "OnlineSecurity      0\n",
       "OnlineBackup        0\n",
       "DeviceProtection    0\n",
       "TechSupport         0\n",
       "StreamingTV         0\n",
       "StreamingMovies     0\n",
       "Contract            0\n",
       "PaperlessBilling    0\n",
       "PaymentMethod       0\n",
       "MonthlyCharges      0\n",
       "TotalCharges        0\n",
       "Churn               0\n",
       "dtype: int64"
      ]
     },
     "execution_count": 3,
     "metadata": {},
     "output_type": "execute_result"
    }
   ],
   "source": [
    "train_df.isnull().sum()"
   ]
  },
  {
   "cell_type": "code",
   "execution_count": 4,
   "metadata": {},
   "outputs": [
    {
     "data": {
      "text/plain": [
       "customerID          0\n",
       "gender              0\n",
       "SeniorCitizen       0\n",
       "Partner             0\n",
       "Dependents          0\n",
       "tenure              0\n",
       "PhoneService        0\n",
       "MultipleLines       0\n",
       "InternetService     0\n",
       "OnlineSecurity      0\n",
       "OnlineBackup        0\n",
       "DeviceProtection    0\n",
       "TechSupport         0\n",
       "StreamingTV         0\n",
       "StreamingMovies     0\n",
       "Contract            0\n",
       "PaperlessBilling    0\n",
       "PaymentMethod       0\n",
       "MonthlyCharges      0\n",
       "TotalCharges        0\n",
       "Churn               0\n",
       "dtype: int64"
      ]
     },
     "execution_count": 4,
     "metadata": {},
     "output_type": "execute_result"
    }
   ],
   "source": [
    "test_df.isnull().sum()"
   ]
  },
  {
   "cell_type": "code",
   "execution_count": 5,
   "metadata": {},
   "outputs": [
    {
     "data": {
      "text/plain": [
       "0"
      ]
     },
     "execution_count": 5,
     "metadata": {},
     "output_type": "execute_result"
    }
   ],
   "source": [
    "train_df.duplicated().sum()"
   ]
  },
  {
   "cell_type": "code",
   "execution_count": 6,
   "metadata": {},
   "outputs": [
    {
     "data": {
      "text/plain": [
       "0"
      ]
     },
     "execution_count": 6,
     "metadata": {},
     "output_type": "execute_result"
    }
   ],
   "source": [
    "test_df.duplicated().sum()"
   ]
  },
  {
   "cell_type": "code",
   "execution_count": 7,
   "metadata": {},
   "outputs": [
    {
     "data": {
      "text/html": [
       "<div>\n",
       "<style scoped>\n",
       "    .dataframe tbody tr th:only-of-type {\n",
       "        vertical-align: middle;\n",
       "    }\n",
       "\n",
       "    .dataframe tbody tr th {\n",
       "        vertical-align: top;\n",
       "    }\n",
       "\n",
       "    .dataframe thead th {\n",
       "        text-align: right;\n",
       "    }\n",
       "</style>\n",
       "<table border=\"1\" class=\"dataframe\">\n",
       "  <thead>\n",
       "    <tr style=\"text-align: right;\">\n",
       "      <th></th>\n",
       "      <th>customerID</th>\n",
       "      <th>gender</th>\n",
       "      <th>SeniorCitizen</th>\n",
       "      <th>Partner</th>\n",
       "      <th>Dependents</th>\n",
       "      <th>tenure</th>\n",
       "      <th>PhoneService</th>\n",
       "      <th>MultipleLines</th>\n",
       "      <th>InternetService</th>\n",
       "      <th>OnlineSecurity</th>\n",
       "      <th>...</th>\n",
       "      <th>DeviceProtection</th>\n",
       "      <th>TechSupport</th>\n",
       "      <th>StreamingTV</th>\n",
       "      <th>StreamingMovies</th>\n",
       "      <th>Contract</th>\n",
       "      <th>PaperlessBilling</th>\n",
       "      <th>PaymentMethod</th>\n",
       "      <th>MonthlyCharges</th>\n",
       "      <th>TotalCharges</th>\n",
       "      <th>Churn</th>\n",
       "    </tr>\n",
       "  </thead>\n",
       "  <tbody>\n",
       "    <tr>\n",
       "      <th>0</th>\n",
       "      <td>1768-ZAIFU</td>\n",
       "      <td>Female</td>\n",
       "      <td>1</td>\n",
       "      <td>No</td>\n",
       "      <td>No</td>\n",
       "      <td>1</td>\n",
       "      <td>No</td>\n",
       "      <td>No phone service</td>\n",
       "      <td>DSL</td>\n",
       "      <td>No</td>\n",
       "      <td>...</td>\n",
       "      <td>No</td>\n",
       "      <td>No</td>\n",
       "      <td>No</td>\n",
       "      <td>No</td>\n",
       "      <td>Month-to-month</td>\n",
       "      <td>Yes</td>\n",
       "      <td>Electronic check</td>\n",
       "      <td>25.20</td>\n",
       "      <td>25.2</td>\n",
       "      <td>Yes</td>\n",
       "    </tr>\n",
       "    <tr>\n",
       "      <th>1</th>\n",
       "      <td>2159-TURXX</td>\n",
       "      <td>Male</td>\n",
       "      <td>0</td>\n",
       "      <td>No</td>\n",
       "      <td>No</td>\n",
       "      <td>5</td>\n",
       "      <td>Yes</td>\n",
       "      <td>No</td>\n",
       "      <td>No</td>\n",
       "      <td>No internet service</td>\n",
       "      <td>...</td>\n",
       "      <td>No internet service</td>\n",
       "      <td>No internet service</td>\n",
       "      <td>No internet service</td>\n",
       "      <td>No internet service</td>\n",
       "      <td>Month-to-month</td>\n",
       "      <td>No</td>\n",
       "      <td>Credit card (automatic)</td>\n",
       "      <td>20.05</td>\n",
       "      <td>95.55</td>\n",
       "      <td>No</td>\n",
       "    </tr>\n",
       "    <tr>\n",
       "      <th>2</th>\n",
       "      <td>8261-GWDBQ</td>\n",
       "      <td>Female</td>\n",
       "      <td>1</td>\n",
       "      <td>Yes</td>\n",
       "      <td>No</td>\n",
       "      <td>60</td>\n",
       "      <td>Yes</td>\n",
       "      <td>Yes</td>\n",
       "      <td>Fiber optic</td>\n",
       "      <td>Yes</td>\n",
       "      <td>...</td>\n",
       "      <td>Yes</td>\n",
       "      <td>Yes</td>\n",
       "      <td>Yes</td>\n",
       "      <td>Yes</td>\n",
       "      <td>Two year</td>\n",
       "      <td>Yes</td>\n",
       "      <td>Bank transfer (automatic)</td>\n",
       "      <td>116.05</td>\n",
       "      <td>6925.9</td>\n",
       "      <td>No</td>\n",
       "    </tr>\n",
       "    <tr>\n",
       "      <th>3</th>\n",
       "      <td>2732-ISEZX</td>\n",
       "      <td>Female</td>\n",
       "      <td>0</td>\n",
       "      <td>No</td>\n",
       "      <td>No</td>\n",
       "      <td>5</td>\n",
       "      <td>Yes</td>\n",
       "      <td>No</td>\n",
       "      <td>No</td>\n",
       "      <td>No internet service</td>\n",
       "      <td>...</td>\n",
       "      <td>No internet service</td>\n",
       "      <td>No internet service</td>\n",
       "      <td>No internet service</td>\n",
       "      <td>No internet service</td>\n",
       "      <td>Month-to-month</td>\n",
       "      <td>Yes</td>\n",
       "      <td>Mailed check</td>\n",
       "      <td>20.50</td>\n",
       "      <td>104.3</td>\n",
       "      <td>No</td>\n",
       "    </tr>\n",
       "    <tr>\n",
       "      <th>4</th>\n",
       "      <td>7607-QKKTJ</td>\n",
       "      <td>Male</td>\n",
       "      <td>0</td>\n",
       "      <td>Yes</td>\n",
       "      <td>Yes</td>\n",
       "      <td>45</td>\n",
       "      <td>Yes</td>\n",
       "      <td>Yes</td>\n",
       "      <td>Fiber optic</td>\n",
       "      <td>No</td>\n",
       "      <td>...</td>\n",
       "      <td>Yes</td>\n",
       "      <td>No</td>\n",
       "      <td>No</td>\n",
       "      <td>Yes</td>\n",
       "      <td>One year</td>\n",
       "      <td>Yes</td>\n",
       "      <td>Credit card (automatic)</td>\n",
       "      <td>95.00</td>\n",
       "      <td>4368.85</td>\n",
       "      <td>No</td>\n",
       "    </tr>\n",
       "  </tbody>\n",
       "</table>\n",
       "<p>5 rows × 21 columns</p>\n",
       "</div>"
      ],
      "text/plain": [
       "   customerID  gender  SeniorCitizen Partner Dependents  tenure PhoneService   \n",
       "0  1768-ZAIFU  Female              1      No         No       1           No  \\\n",
       "1  2159-TURXX    Male              0      No         No       5          Yes   \n",
       "2  8261-GWDBQ  Female              1     Yes         No      60          Yes   \n",
       "3  2732-ISEZX  Female              0      No         No       5          Yes   \n",
       "4  7607-QKKTJ    Male              0     Yes        Yes      45          Yes   \n",
       "\n",
       "      MultipleLines InternetService       OnlineSecurity  ...   \n",
       "0  No phone service             DSL                   No  ...  \\\n",
       "1                No              No  No internet service  ...   \n",
       "2               Yes     Fiber optic                  Yes  ...   \n",
       "3                No              No  No internet service  ...   \n",
       "4               Yes     Fiber optic                   No  ...   \n",
       "\n",
       "      DeviceProtection          TechSupport          StreamingTV   \n",
       "0                   No                   No                   No  \\\n",
       "1  No internet service  No internet service  No internet service   \n",
       "2                  Yes                  Yes                  Yes   \n",
       "3  No internet service  No internet service  No internet service   \n",
       "4                  Yes                   No                   No   \n",
       "\n",
       "       StreamingMovies        Contract PaperlessBilling   \n",
       "0                   No  Month-to-month              Yes  \\\n",
       "1  No internet service  Month-to-month               No   \n",
       "2                  Yes        Two year              Yes   \n",
       "3  No internet service  Month-to-month              Yes   \n",
       "4                  Yes        One year              Yes   \n",
       "\n",
       "               PaymentMethod MonthlyCharges  TotalCharges Churn  \n",
       "0           Electronic check          25.20          25.2   Yes  \n",
       "1    Credit card (automatic)          20.05         95.55    No  \n",
       "2  Bank transfer (automatic)         116.05        6925.9    No  \n",
       "3               Mailed check          20.50         104.3    No  \n",
       "4    Credit card (automatic)          95.00       4368.85    No  \n",
       "\n",
       "[5 rows x 21 columns]"
      ]
     },
     "execution_count": 7,
     "metadata": {},
     "output_type": "execute_result"
    }
   ],
   "source": [
    "train_df.head()"
   ]
  },
  {
   "attachments": {},
   "cell_type": "markdown",
   "metadata": {},
   "source": [
    "# ● Förbered datan för att kunna användas av modellen"
   ]
  },
  {
   "attachments": {},
   "cell_type": "markdown",
   "metadata": {},
   "source": [
    "## ○ Finns det data som ej borde användas?"
   ]
  },
  {
   "attachments": {},
   "cell_type": "markdown",
   "metadata": {},
   "source": [
    "### Eftersom att customerID attributet inte spelar någon roll i hurvida en kund lämnar eller ej så kommer jag droppa den."
   ]
  },
  {
   "cell_type": "code",
   "execution_count": 8,
   "metadata": {},
   "outputs": [],
   "source": [
    "train_df = train_df.drop(columns='customerID')\n",
    "test_df = test_df.drop(columns='customerID')"
   ]
  },
  {
   "attachments": {},
   "cell_type": "markdown",
   "metadata": {},
   "source": [
    "## ○ Det finns en hel del textdata som måste behandlas på något vis (finns flera olika alternativ, där vissa metoder är mer lämpade för neurala nätverk)."
   ]
  },
  {
   "cell_type": "code",
   "execution_count": 9,
   "metadata": {},
   "outputs": [
    {
     "data": {
      "text/plain": [
       "gender               object\n",
       "SeniorCitizen         int64\n",
       "Partner              object\n",
       "Dependents           object\n",
       "tenure                int64\n",
       "PhoneService         object\n",
       "MultipleLines        object\n",
       "InternetService      object\n",
       "OnlineSecurity       object\n",
       "OnlineBackup         object\n",
       "DeviceProtection     object\n",
       "TechSupport          object\n",
       "StreamingTV          object\n",
       "StreamingMovies      object\n",
       "Contract             object\n",
       "PaperlessBilling     object\n",
       "PaymentMethod        object\n",
       "MonthlyCharges      float64\n",
       "TotalCharges         object\n",
       "Churn                object\n",
       "dtype: object"
      ]
     },
     "execution_count": 9,
     "metadata": {},
     "output_type": "execute_result"
    }
   ],
   "source": [
    "train_df.dtypes"
   ]
  },
  {
   "attachments": {},
   "cell_type": "markdown",
   "metadata": {},
   "source": [
    "### En observation efter att ha sett att TotalCharges är ett object men i datasetet verkar den innehålla floats precis som MonthlyCharges men att det är totalt vad kunden betalat i avgifter, när jag försökte göra om den till float så får jag error, jag skapar en funktion för att ta fram vad det är för värden och hur många som inte går att konvertera."
   ]
  },
  {
   "cell_type": "code",
   "execution_count": 10,
   "metadata": {},
   "outputs": [],
   "source": [
    "def can_convert(value):\n",
    "    try:\n",
    "        float(value)\n",
    "        return True\n",
    "    except:\n",
    "        return False"
   ]
  },
  {
   "cell_type": "code",
   "execution_count": 11,
   "metadata": {},
   "outputs": [],
   "source": [
    "train_unconvertable = []\n",
    "for v in train_df['TotalCharges']:\n",
    "    if can_convert(v) == False:\n",
    "        train_unconvertable.append(v)"
   ]
  },
  {
   "cell_type": "code",
   "execution_count": 12,
   "metadata": {},
   "outputs": [],
   "source": [
    "test_unconvertable = []\n",
    "for v in test_df['TotalCharges']:\n",
    "    if can_convert(v) == False:\n",
    "        test_unconvertable.append(v)"
   ]
  },
  {
   "cell_type": "code",
   "execution_count": 13,
   "metadata": {},
   "outputs": [
    {
     "name": "stdout",
     "output_type": "stream",
     "text": [
      "Unconvertable in train set:  [' ', ' ', ' ', ' ', ' ', ' ', ' ', ' ']\n",
      "Count:  8\n"
     ]
    }
   ],
   "source": [
    "print('Unconvertable in train set: ',train_unconvertable)\n",
    "print('Count: ', len(train_unconvertable))"
   ]
  },
  {
   "cell_type": "code",
   "execution_count": 14,
   "metadata": {},
   "outputs": [
    {
     "name": "stdout",
     "output_type": "stream",
     "text": [
      "Unconvertable in test set:  [' ', ' ', ' ']\n",
      "Count:  3\n"
     ]
    }
   ],
   "source": [
    "print('Unconvertable in test set: ',test_unconvertable)\n",
    "print('Count: ', len(test_unconvertable))"
   ]
  },
  {
   "attachments": {},
   "cell_type": "markdown",
   "metadata": {},
   "source": [
    "### Nu ser jag att samtliga värden som inte går att konvertera till float är tomma string rader, jag väljer att byta ut dom till 0 eftersom att det ska betyda att kunden inte blivit debiterad någonting ännu, och detta kommer bli bättre för min egna encoder senare. Men eftersom att jag gör så med träningsdatan så behöver jag även göra det med testdatan. Man ska ju inte ändra i testdatan utan låta den vara intakt, men jag känner att detta inte gör någon skillnad då en tom string är samma sak som att den hade varit 0."
   ]
  },
  {
   "cell_type": "code",
   "execution_count": 15,
   "metadata": {},
   "outputs": [],
   "source": [
    "train_df.loc[train_df['TotalCharges'] == ' ', 'TotalCharges'] = 0\n",
    "test_df.loc[test_df['TotalCharges'] == ' ', 'TotalCharges'] = 0"
   ]
  },
  {
   "cell_type": "code",
   "execution_count": 16,
   "metadata": {},
   "outputs": [],
   "source": [
    "train_df['TotalCharges'] = train_df['TotalCharges'].astype(float)\n",
    "test_df['TotalCharges'] = test_df['TotalCharges'].astype(float)"
   ]
  },
  {
   "attachments": {},
   "cell_type": "markdown",
   "metadata": {},
   "source": [
    "### Eftersom att neurala nätverk gör matematiska beräkningar så är OneHotEncoding ett bättre alternativ."
   ]
  },
  {
   "cell_type": "code",
   "execution_count": 17,
   "metadata": {},
   "outputs": [],
   "source": [
    "x_train = train_df.drop(columns='Churn')\n",
    "y_train = train_df['Churn']\n",
    "\n",
    "x_test = test_df.drop(columns='Churn')\n",
    "y_test = test_df['Churn']"
   ]
  },
  {
   "cell_type": "code",
   "execution_count": 18,
   "metadata": {},
   "outputs": [],
   "source": [
    "def encode_columns(train_df,test_df):\n",
    "    columns = train_df.columns\n",
    "    # train_df_func = train_df.copy()\n",
    "    # test_df_func = test_df.copy()\n",
    "    colums_to_transform = []\n",
    "    for c in columns:\n",
    "        if train_df[c].dtype == 'object':\n",
    "            colums_to_transform.append(c)\n",
    "        elif c == 'SeniorCitizen':\n",
    "            colums_to_transform.append(c)\n",
    "        else:\n",
    "            continue\n",
    "    train_df_func = pd.get_dummies(train_df,columns=colums_to_transform,dtype=int)\n",
    "    test_df_func = pd.get_dummies(test_df,columns=colums_to_transform,dtype=int)\n",
    "\n",
    "    return train_df_func, test_df_func"
   ]
  },
  {
   "cell_type": "code",
   "execution_count": 19,
   "metadata": {},
   "outputs": [],
   "source": [
    "encoded_x_train, encoded_x_test = encode_columns(x_train,x_test)"
   ]
  },
  {
   "cell_type": "code",
   "execution_count": 20,
   "metadata": {},
   "outputs": [],
   "source": [
    "scaler = MinMaxScaler()"
   ]
  },
  {
   "cell_type": "code",
   "execution_count": 21,
   "metadata": {},
   "outputs": [],
   "source": [
    "encoded_x_train = scaler.fit_transform(encoded_x_train)"
   ]
  },
  {
   "cell_type": "code",
   "execution_count": 22,
   "metadata": {},
   "outputs": [],
   "source": [
    "encoded_x_test = scaler.transform(encoded_x_test)"
   ]
  },
  {
   "cell_type": "code",
   "execution_count": 23,
   "metadata": {},
   "outputs": [],
   "source": [
    "encoded_x_test = pd.DataFrame(encoded_x_test,columns=scaler.feature_names_in_)"
   ]
  },
  {
   "cell_type": "code",
   "execution_count": 24,
   "metadata": {},
   "outputs": [],
   "source": [
    "encoded_x_train = pd.DataFrame(encoded_x_train,columns=scaler.feature_names_in_)"
   ]
  },
  {
   "attachments": {},
   "cell_type": "markdown",
   "metadata": {},
   "source": [
    "# ● Träna 5 olika neurala nätverk och jämför tiden de tar att träna (låt resten av parametrarna vara default och använd samma random state för att få bättre jämförelse av tiden)"
   ]
  },
  {
   "attachments": {},
   "cell_type": "markdown",
   "metadata": {},
   "source": [
    "○ 4 gömda lager med 5 neuroner i varje, learning rate 0.01\n",
    "○ 2 gömda lager med 100 neuroner, learning rate 0.01\n",
    "○ 10 gömda lager med 100 neuroner i varje, learning rate 0.01\n",
    "○ 2 gömda lager med 100 neuroner, learning rate 0.0001\n",
    "○ 2 gömda lager med 100 neuroner, learning rate 0.00001\n",
    "○ Utvärdera modellerna\n",
    "■ Beräkna accuracy\n",
    "■ Rita ut en confusion matrix och analysera hur modellen gör\n",
    "prediktioner och vilka typer av fel den gör."
   ]
  },
  {
   "cell_type": "code",
   "execution_count": 25,
   "metadata": {},
   "outputs": [],
   "source": [
    "def predict_and_paint(model, y_test, x_test):\n",
    "    predictions = model.predict(x_test)\n",
    "    lab = y_test.unique()\n",
    "    lab = sorted(lab)\n",
    "    cm = confusion_matrix(y_test, predictions, labels=lab)\n",
    "    disp = ConfusionMatrixDisplay(confusion_matrix=cm, display_labels=lab)\n",
    "    disp.plot()\n",
    "    plt.show()"
   ]
  },
  {
   "attachments": {},
   "cell_type": "markdown",
   "metadata": {},
   "source": [
    "## ○ 4 gömda lager med 5 neuroner i varje, learning rate 0.01"
   ]
  },
  {
   "cell_type": "code",
   "execution_count": 26,
   "metadata": {},
   "outputs": [],
   "source": [
    "# %%timeit\n",
    "clf = MLPClassifier(hidden_layer_sizes=(5,5,5,5),learning_rate_init=0.01,random_state=42).fit(encoded_x_train,y_train)"
   ]
  },
  {
   "attachments": {},
   "cell_type": "markdown",
   "metadata": {},
   "source": [
    "### Träningen av denna tog 0.8s"
   ]
  },
  {
   "cell_type": "code",
   "execution_count": 27,
   "metadata": {},
   "outputs": [
    {
     "data": {
      "text/plain": [
       "0.7934705464868701"
      ]
     },
     "execution_count": 27,
     "metadata": {},
     "output_type": "execute_result"
    }
   ],
   "source": [
    "clf.score(encoded_x_test,y_test)"
   ]
  },
  {
   "cell_type": "code",
   "execution_count": 28,
   "metadata": {},
   "outputs": [
    {
     "data": {
      "image/png": "[encoded data removed]",
      "text/plain": [
       "<Figure size 640x480 with 2 Axes>"
      ]
     },
     "metadata": {},
     "output_type": "display_data"
    }
   ],
   "source": [
    "predict_and_paint(clf,y_test, encoded_x_test)"
   ]
  },
  {
   "attachments": {},
   "cell_type": "markdown",
   "metadata": {},
   "source": [
    "## ○ 2 gömda lager med 100 neuroner, learning rate 0.01"
   ]
  },
  {
   "cell_type": "code",
   "execution_count": 29,
   "metadata": {},
   "outputs": [],
   "source": [
    "clf = MLPClassifier(hidden_layer_sizes=(100,100),learning_rate_init=0.01,random_state=42).fit(encoded_x_train,y_train)"
   ]
  },
  {
   "attachments": {},
   "cell_type": "markdown",
   "metadata": {},
   "source": [
    "### Träningen av denna tog 9.3s"
   ]
  },
  {
   "cell_type": "code",
   "execution_count": 30,
   "metadata": {},
   "outputs": [
    {
     "data": {
      "text/plain": [
       "0.752306600425834"
      ]
     },
     "execution_count": 30,
     "metadata": {},
     "output_type": "execute_result"
    }
   ],
   "source": [
    "clf.score(encoded_x_test,y_test)"
   ]
  },
  {
   "cell_type": "code",
   "execution_count": 31,
   "metadata": {},
   "outputs": [
    {
     "data": {
      "image/png": "[encoded data removed]",
      "text/plain": [
       "<Figure size 640x480 with 2 Axes>"
      ]
     },
     "metadata": {},
     "output_type": "display_data"
    }
   ],
   "source": [
    "predict_and_paint(clf,y_test, encoded_x_test)"
   ]
  },
  {
   "attachments": {},
   "cell_type": "markdown",
   "metadata": {},
   "source": [
    "## ○ 10 gömda lager med 100 neuroner i varje, learning rate 0.01"
   ]
  },
  {
   "cell_type": "code",
   "execution_count": 32,
   "metadata": {},
   "outputs": [],
   "source": [
    "clf = MLPClassifier(hidden_layer_sizes=(100,100,100,100,100,100,100,100,100,100),learning_rate_init=0.01,random_state=42).fit(encoded_x_train,y_train)"
   ]
  },
  {
   "attachments": {},
   "cell_type": "markdown",
   "metadata": {},
   "source": [
    "### Träningen av denna tog 30.3s"
   ]
  },
  {
   "cell_type": "code",
   "execution_count": 33,
   "metadata": {},
   "outputs": [
    {
     "data": {
      "text/plain": [
       "0.772888573456352"
      ]
     },
     "execution_count": 33,
     "metadata": {},
     "output_type": "execute_result"
    }
   ],
   "source": [
    "clf.score(encoded_x_test,y_test)"
   ]
  },
  {
   "cell_type": "code",
   "execution_count": 34,
   "metadata": {},
   "outputs": [
    {
     "data": {
      "image/png": "[encoded data removed]",
      "text/plain": [
       "<Figure size 640x480 with 2 Axes>"
      ]
     },
     "metadata": {},
     "output_type": "display_data"
    }
   ],
   "source": [
    "predict_and_paint(clf,y_test, encoded_x_test)"
   ]
  },
  {
   "attachments": {},
   "cell_type": "markdown",
   "metadata": {},
   "source": [
    "## ○ 2 gömda lager med 100 neuroner, learning rate 0.0001"
   ]
  },
  {
   "cell_type": "code",
   "execution_count": 35,
   "metadata": {},
   "outputs": [
    {
     "name": "stderr",
     "output_type": "stream",
     "text": [
      "c:\\Kodprojekt\\MachineLearning\\env\\lib\\site-packages\\sklearn\\neural_network\\_multilayer_perceptron.py:686: ConvergenceWarning: Stochastic Optimizer: Maximum iterations (200) reached and the optimization hasn't converged yet.\n",
      "  warnings.warn(\n"
     ]
    }
   ],
   "source": [
    "clf = MLPClassifier(hidden_layer_sizes=(100,100),learning_rate_init=0.0001,random_state=42).fit(encoded_x_train,y_train)"
   ]
  },
  {
   "attachments": {},
   "cell_type": "markdown",
   "metadata": {},
   "source": [
    "### Träningen av denna tog 14.8s, men detta efter att den har slutat tidigt pågrund utav maxiterationer."
   ]
  },
  {
   "cell_type": "code",
   "execution_count": 36,
   "metadata": {},
   "outputs": [
    {
     "data": {
      "text/plain": [
       "0.7835344215755855"
      ]
     },
     "execution_count": 36,
     "metadata": {},
     "output_type": "execute_result"
    }
   ],
   "source": [
    "clf.score(encoded_x_test,y_test)"
   ]
  },
  {
   "cell_type": "code",
   "execution_count": 37,
   "metadata": {},
   "outputs": [
    {
     "data": {
      "image/png": "[encoded data removed]",
      "text/plain": [
       "<Figure size 640x480 with 2 Axes>"
      ]
     },
     "metadata": {},
     "output_type": "display_data"
    }
   ],
   "source": [
    "predict_and_paint(clf,y_test, encoded_x_test)"
   ]
  },
  {
   "attachments": {},
   "cell_type": "markdown",
   "metadata": {},
   "source": [
    "## ○ 2 gömda lager med 100 neuroner, learning rate 0.00001"
   ]
  },
  {
   "cell_type": "code",
   "execution_count": 38,
   "metadata": {},
   "outputs": [],
   "source": [
    "clf = MLPClassifier(hidden_layer_sizes=(100,100),learning_rate_init=0.00001,random_state=42).fit(encoded_x_train,y_train)"
   ]
  },
  {
   "attachments": {},
   "cell_type": "markdown",
   "metadata": {},
   "source": [
    "### Träningen av denna tog 15.3s."
   ]
  },
  {
   "cell_type": "code",
   "execution_count": 39,
   "metadata": {},
   "outputs": [
    {
     "data": {
      "text/plain": [
       "0.7955997161107168"
      ]
     },
     "execution_count": 39,
     "metadata": {},
     "output_type": "execute_result"
    }
   ],
   "source": [
    "clf.score(encoded_x_test,y_test)"
   ]
  },
  {
   "cell_type": "code",
   "execution_count": 40,
   "metadata": {},
   "outputs": [
    {
     "data": {
      "image/png": "[encoded data removed]",
      "text/plain": [
       "<Figure size 640x480 with 2 Axes>"
      ]
     },
     "metadata": {},
     "output_type": "display_data"
    }
   ],
   "source": [
    "predict_and_paint(clf,y_test, encoded_x_test)"
   ]
  },
  {
   "attachments": {},
   "cell_type": "markdown",
   "metadata": {},
   "source": [
    "### Om man börjar med att försöka förklara tidsskillnaden det tar genom att se närmare på dom tre modeller som vi tränat som har två gömda lager och 100 neuroner i sig fast med olika learning_rate 0.01, 0.0001 och 0.00001 då dom har hidden_layer_sizes gemensamt så kan vi se att deras tider ökar med hur liten learning_raten är. Detta eftersom att modellen tar större steg när det är ett högre värde och därför så nöjer den sig snabbare, men sedan så blir ju inte tidsskillnaden mellan 0.0001, 0.00001 så stor och det är eftersom att den når sin maxgräns av iterationer konstigt nog enbart på den med 0.0001, om något så skulle jag trott att det var tvärtom eller att båda skulle ge upp tidigt men pågrund utav detta så verkar det som att dom kör ungefär lika länge men eftersom att då den med 0.0001 slutar tidigt men tar lika lång tid som den med 0,00001 så borde den senare av dom tagit ännu längre tid på sig om den inte hade varit nöjd tidigt.\n",
    "\n",
    "### Om vi sedan går in på tidsskillnaden mellan dom två modeller som har 100st neuroner och 0.01 i learning_rate men en av dom har 2st gömda lager och den andra har 10st så ser vi att tiden ökar ju fler gömda lager vi har. Som vi ser så ökar det i vårt fall på nästan 10sekunder till 30 sekunder när man då går från 2 till 10 gömda lager.\n",
    "\n",
    "### En intressant observation iom att jag använde MinMaxScaler är att om jag inte använder den utan jag kör datan som det är så får jag ungefär samma score för samtliga modeller men den får betydligt sämre prediktioner på dom som är klassade att lämna i dom första två modeller. Om man kollar då på skillnaden i parametrarna så har den färre neuroner och högre learning rate om man jämför med senare modeller, så det kan vara så att den inte hinner bli tränad tillräckligt länge för att göra bra prediktioner, kollar man på dens score som absolut är ganska högt så är ju detta för att största delen av datasetet består av 'yes' target som den verkar vilja klassificera för fulla muggar."
   ]
  },
  {
   "attachments": {},
   "cell_type": "markdown",
   "metadata": {},
   "source": [
    "### Först delar vi upp original träningsdatan i validering och träningsdataset, eftersom att vi vill få fram opartiska bästa parametrar för modellen."
   ]
  },
  {
   "cell_type": "code",
   "execution_count": 41,
   "metadata": {},
   "outputs": [],
   "source": [
    "# x_train, x_validation, y_train, y_validation = train_test_split(encoded_x_train,y_train, test_size=0.3, random_state=42)"
   ]
  },
  {
   "cell_type": "code",
   "execution_count": 42,
   "metadata": {},
   "outputs": [
    {
     "name": "stdout",
     "output_type": "stream",
     "text": [
      "[[10, 80], [20, 60, 5, 40], [60, 10, 80, 5, 60, 80], [5, 80, 40, 60, 10, 100, 100, 10], [80, 100, 60, 80, 40, 20, 20, 20, 100, 20], [100, 40], [20, 40, 60, 5], [80, 40, 5, 10, 10, 80], [20, 5, 100, 80, 40, 10, 40, 60], [20, 80, 5, 5, 5, 40, 20, 80, 60, 5], [20, 20], [60, 80, 40, 5], [40, 40, 100, 5, 40, 5], [5, 10, 80, 100, 10, 5, 80, 10], [5, 5, 80, 20, 100, 40, 80, 5, 80, 10], [40, 100], [20, 20, 100, 20], [60, 20, 80, 5, 80, 20], [80, 100, 10, 60, 40, 10, 20, 10], [10, 10, 100, 40, 100, 100, 80, 20, 20, 10], [5, 10], [60, 40, 40, 100], [10, 60, 40, 60, 10, 60], [60, 100, 20, 40, 5, 100, 100, 20], [60, 20, 100, 20, 20, 80, 5, 40, 10, 80], [80, 5], [100, 20, 20, 60], [80, 80, 100, 10, 60, 10], [5, 10, 60, 80, 10, 20, 5, 60], [5, 60, 10, 5, 100, 5, 10, 10, 20, 80], [100, 10], [100, 40, 80, 20], [10, 40, 100, 100, 40, 60], [20, 40, 20, 100, 5, 80, 5, 60], [40, 60, 100, 60, 5, 80, 5, 5, 40, 10], [10, 60], [40, 60, 40, 5], [100, 80, 40, 10, 60, 60], [60, 5, 40, 40, 5, 40, 20, 20], [10, 80, 60, 5, 100, 20, 80, 100, 5, 60], [80, 100], [5, 20, 40, 80], [60, 5, 80, 80, 80, 10], [80, 40, 20, 100, 20, 10, 80, 100], [100, 60, 10, 80, 10, 100, 5, 80, 5, 10], [5, 80], [80, 5, 20, 40], [40, 40, 40, 40, 60, 100], [10, 5, 60, 100, 5, 10, 40, 40], [80, 10, 60, 80, 100, 5, 40, 40, 10, 20]]\n",
      "Layer_count: [10, 80], Lerarning_rate_init: 0.001,Learning_rate: adaptive, Activation: logistic Score: 0.7924305144884684\n",
      "Layer_count: [100, 40], Lerarning_rate_init: 0.001,Learning_rate: adaptive, Activation: logistic Score: 0.7953873447664104\n",
      "Layer_count: [40, 100], Lerarning_rate_init: 0.001,Learning_rate: adaptive, Activation: logistic Score: 0.8054405677114134\n",
      "Layer_count: [60, 40, 40, 100], Lerarning_rate_init: 0.001,Learning_rate: adaptive, Activation: logistic Score: 0.8190419869899468\n",
      "Layer_count: [20, 60, 5, 40], Lerarning_rate_init: 0.001,Learning_rate: adaptive, Activation: tanh Score: 0.8255470136014192\n"
     ]
    }
   ],
   "source": [
    "layer_size = [5,10,20,40,60,80,100]\n",
    "layer_count = [2,4,6,8,10]\n",
    "learning_rate_init = [0.001,0.0001,0.00001]\n",
    "activation= ['logistic', 'tanh','relu']\n",
    "learning_rate=['adaptive','constant','invscaling']\n",
    "\n",
    "best_score = 0\n",
    "\n",
    "layer_counts = []\n",
    "import random\n",
    "for x in range(10):\n",
    "    for y in layer_count:\n",
    "        layer = []\n",
    "        for i in range(y):\n",
    "            number = random.choice(layer_size)\n",
    "            layer.append(number)\n",
    "        layer_counts.append(layer)\n",
    "\n",
    "print(layer_counts)\n",
    "\n",
    "# for ls in layer_size:\n",
    "for a in activation:\n",
    "    for lr in learning_rate:\n",
    "        for lc in layer_counts:\n",
    "            for lri in learning_rate_init:\n",
    "                clf = MLPClassifier(hidden_layer_sizes=lc,\n",
    "                                    learning_rate_init=lri,\n",
    "                                    learning_rate= lr,\n",
    "                                    activation=a,\n",
    "                                    max_iter=300,\n",
    "                                    early_stopping=True,\n",
    "                                    validation_fraction=0.3, \n",
    "                                    random_state=42\n",
    "                                    ).fit(encoded_x_train,y_train)\n",
    "                score = clf.best_validation_score_\n",
    "                # score = clf.score(encoded_x_test,y_test)\n",
    "                if score > best_score:\n",
    "                    print(F'Layer_count: {lc}, Lerarning_rate_init: {lri},Learning_rate: {lr}, Activation: {a} Score: {score}')\n",
    "                    best_score = score"
   ]
  },
  {
   "cell_type": "code",
   "execution_count": 43,
   "metadata": {},
   "outputs": [],
   "source": [
    "clf = MLPClassifier(hidden_layer_sizes=[60, 20, 80, 100],learning_rate_init=0.001,random_state=42, activation='relu',max_iter=300,early_stopping=True, learning_rate='adaptive').fit(encoded_x_train,y_train)"
   ]
  },
  {
   "cell_type": "code",
   "execution_count": 44,
   "metadata": {},
   "outputs": [
    {
     "data": {
      "text/plain": [
       "0.8097941802696949"
      ]
     },
     "execution_count": 44,
     "metadata": {},
     "output_type": "execute_result"
    }
   ],
   "source": [
    "clf.score(encoded_x_test,y_test)"
   ]
  }
 ],
 "metadata": {
  "kernelspec": {
   "display_name": "env",
   "language": "python",
   "name": "python3"
  },
  "language_info": {
   "codemirror_mode": {
    "name": "ipython",
    "version": 3
   },
   "file_extension": ".py",
   "mimetype": "text/x-python",
   "name": "python",
   "nbconvert_exporter": "python",
   "pygments_lexer": "ipython3",
   "version": "3.10.11"
  },
  "orig_nbformat": 4
 },
 "nbformat": 4,
 "nbformat_minor": 2
}
